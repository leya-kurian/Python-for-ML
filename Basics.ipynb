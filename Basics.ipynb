{
 "cells": [
  {
   "cell_type": "markdown",
   "id": "274e1562-85c4-4e0b-b6b1-bf98e00bfea9",
   "metadata": {},
   "source": [
    "# Basics of `Python` Coding\n",
    "\n",
    "In this notebook we will explain basic `Python` for Machine learning."
   ]
  },
  {
   "cell_type": "markdown",
   "id": "cecdf2bb-f865-4bae-8477-ac1303b69dca",
   "metadata": {},
   "source": [
    "## Derived Datatypes in Python"
   ]
  },
  {
   "cell_type": "markdown",
   "id": "93687e42-a885-443b-b898-5f5a8c6afd85",
   "metadata": {},
   "source": [
    "> **NOTE:** In Python `int`,`float`,`str`,etc are atomic datatypes and no declaration is required.\n"
   ]
  },
  {
   "cell_type": "markdown",
   "id": "7b8ed341-45a6-4634-9793-b999e603cb08",
   "metadata": {},
   "source": [
    "### LIST"
   ]
  },
  {
   "cell_type": "code",
   "execution_count": 3,
   "id": "82570206-60e4-45da-9b11-18c3c198dc2f",
   "metadata": {},
   "outputs": [],
   "source": [
    "my_list=[1,2,3]"
   ]
  },
  {
   "cell_type": "code",
   "execution_count": 4,
   "id": "1448ddc6-031d-4134-b0a5-7e1c0946baef",
   "metadata": {},
   "outputs": [
    {
     "data": {
      "text/plain": [
       "[1, 2, 3]"
      ]
     },
     "execution_count": 4,
     "metadata": {},
     "output_type": "execute_result"
    }
   ],
   "source": [
    "my_list"
   ]
  },
  {
   "cell_type": "code",
   "execution_count": 5,
   "id": "cadc4e22-6850-4946-88a3-bef66fcb5955",
   "metadata": {},
   "outputs": [],
   "source": [
    "my_list=[1,'a',2,'b',3,'c']"
   ]
  },
  {
   "cell_type": "code",
   "execution_count": 6,
   "id": "c0d40d4e-e415-4aa0-87a6-54176db38765",
   "metadata": {},
   "outputs": [
    {
     "data": {
      "text/plain": [
       "[1, 'a', 2, 'b', 3, 'c']"
      ]
     },
     "execution_count": 6,
     "metadata": {},
     "output_type": "execute_result"
    }
   ],
   "source": [
    "my_list"
   ]
  },
  {
   "cell_type": "code",
   "execution_count": 8,
   "id": "07270f9b-1cc6-4c26-ae7c-2f4a143bfcb2",
   "metadata": {},
   "outputs": [
    {
     "data": {
      "text/plain": [
       "1"
      ]
     },
     "execution_count": 8,
     "metadata": {},
     "output_type": "execute_result"
    }
   ],
   "source": [
    "my_list[0]"
   ]
  },
  {
   "cell_type": "code",
   "execution_count": 11,
   "id": "8175514d-1312-4eef-a485-1624a71b7b4f",
   "metadata": {},
   "outputs": [],
   "source": [
    "my_list=[1,2,[100,200,300]]"
   ]
  },
  {
   "cell_type": "code",
   "execution_count": 12,
   "id": "98ab0db6-c7eb-459d-86db-04fd76ef098d",
   "metadata": {},
   "outputs": [
    {
     "data": {
      "text/plain": [
       "200"
      ]
     },
     "execution_count": 12,
     "metadata": {},
     "output_type": "execute_result"
    }
   ],
   "source": [
    "my_list[2][1]"
   ]
  },
  {
   "cell_type": "code",
   "execution_count": 13,
   "id": "8458331d-17b1-4d0e-9d8d-14aa6e6287a9",
   "metadata": {},
   "outputs": [
    {
     "data": {
      "text/plain": [
       "[1]"
      ]
     },
     "execution_count": 13,
     "metadata": {},
     "output_type": "execute_result"
    }
   ],
   "source": [
    "my_list[:1]"
   ]
  },
  {
   "cell_type": "code",
   "execution_count": 14,
   "id": "49b9914a-cb75-4dc9-b098-73a5b10731fc",
   "metadata": {},
   "outputs": [],
   "source": [
    "my_list=[1,2,3,4,5,6,7,8,9]"
   ]
  },
  {
   "cell_type": "code",
   "execution_count": 21,
   "id": "abc21b00-4640-4831-91f0-e7c9c4f4b38f",
   "metadata": {},
   "outputs": [
    {
     "data": {
      "text/plain": [
       "[1, 3, 5, 7, 9]"
      ]
     },
     "execution_count": 21,
     "metadata": {},
     "output_type": "execute_result"
    }
   ],
   "source": [
    "my_list[::2]"
   ]
  },
  {
   "cell_type": "code",
   "execution_count": 22,
   "id": "56024f55-d0f7-4fac-9a97-b64dcd558366",
   "metadata": {},
   "outputs": [],
   "source": [
    "my_list[0]='new'"
   ]
  },
  {
   "cell_type": "code",
   "execution_count": 23,
   "id": "3108021b-5a74-462a-a101-d403466afa21",
   "metadata": {},
   "outputs": [
    {
     "data": {
      "text/plain": [
       "['new', 2, 3, 4, 5, 6, 7, 8, 9]"
      ]
     },
     "execution_count": 23,
     "metadata": {},
     "output_type": "execute_result"
    }
   ],
   "source": [
    "my_list"
   ]
  },
  {
   "cell_type": "code",
   "execution_count": 27,
   "id": "a8a4c4a0-724a-45bd-870e-883c1316b78d",
   "metadata": {},
   "outputs": [],
   "source": [
    "my_list.append([11,12])"
   ]
  },
  {
   "cell_type": "code",
   "execution_count": 28,
   "id": "52d02c1c-011b-4451-bc22-0677f61720b1",
   "metadata": {},
   "outputs": [
    {
     "data": {
      "text/plain": [
       "['new', 2, 3, 4, 5, 6, 7, 8, 9, 10, [11, 12]]"
      ]
     },
     "execution_count": 28,
     "metadata": {},
     "output_type": "execute_result"
    }
   ],
   "source": [
    "my_list"
   ]
  },
  {
   "cell_type": "markdown",
   "id": "a7e61216-e068-4082-bb7c-ab181eab6708",
   "metadata": {},
   "source": [
    "### TUPLE"
   ]
  },
  {
   "cell_type": "code",
   "execution_count": 62,
   "id": "f0ed0f99-b844-4da2-be37-39e5e2653d77",
   "metadata": {},
   "outputs": [],
   "source": [
    "t=(1,2,3)"
   ]
  },
  {
   "cell_type": "code",
   "execution_count": 63,
   "id": "e44fd54d-220b-4938-87dc-5c2ea8140508",
   "metadata": {},
   "outputs": [
    {
     "data": {
      "text/plain": [
       "(1, 2, 3)"
      ]
     },
     "execution_count": 63,
     "metadata": {},
     "output_type": "execute_result"
    }
   ],
   "source": [
    "t"
   ]
  },
  {
   "cell_type": "code",
   "execution_count": 64,
   "id": "9da5ff71-38d1-4285-a53f-5bbf94744a5a",
   "metadata": {},
   "outputs": [
    {
     "ename": "TypeError",
     "evalue": "'tuple' object does not support item assignment",
     "output_type": "error",
     "traceback": [
      "\u001b[0;31m---------------------------------------------------------------------------\u001b[0m",
      "\u001b[0;31mTypeError\u001b[0m                                 Traceback (most recent call last)",
      "Cell \u001b[0;32mIn[64], line 1\u001b[0m\n\u001b[0;32m----> 1\u001b[0m \u001b[43mt\u001b[49m\u001b[43m[\u001b[49m\u001b[38;5;241;43m0\u001b[39;49m\u001b[43m]\u001b[49m\u001b[38;5;241m=\u001b[39m\u001b[38;5;241m2\u001b[39m\n",
      "\u001b[0;31mTypeError\u001b[0m: 'tuple' object does not support item assignment"
     ]
    }
   ],
   "source": [
    "t[0]=2"
   ]
  },
  {
   "cell_type": "markdown",
   "id": "755ca3cd-6724-46d9-b612-d7b327674216",
   "metadata": {},
   "source": [
    "### DICTIONARY"
   ]
  },
  {
   "cell_type": "code",
   "execution_count": 30,
   "id": "9eb9fae0-9983-4113-bfd6-8bee3f628c27",
   "metadata": {},
   "outputs": [],
   "source": [
    "d={'name':'Leya','age':20}"
   ]
  },
  {
   "cell_type": "code",
   "execution_count": 31,
   "id": "05215897-45ee-4628-8ba9-49c272bca178",
   "metadata": {},
   "outputs": [
    {
     "data": {
      "text/plain": [
       "{'name': 'Leya', 'age': 20}"
      ]
     },
     "execution_count": 31,
     "metadata": {},
     "output_type": "execute_result"
    }
   ],
   "source": [
    "d"
   ]
  },
  {
   "cell_type": "code",
   "execution_count": 32,
   "id": "76cfd6f5-5e96-441d-b182-3aec24e15caf",
   "metadata": {},
   "outputs": [
    {
     "data": {
      "text/plain": [
       "'Leya'"
      ]
     },
     "execution_count": 32,
     "metadata": {},
     "output_type": "execute_result"
    }
   ],
   "source": [
    "d['name']"
   ]
  },
  {
   "cell_type": "code",
   "execution_count": 33,
   "id": "f2bed1c9-05e0-4345-ab8c-45b2a8cae3c3",
   "metadata": {},
   "outputs": [
    {
     "data": {
      "text/plain": [
       "20"
      ]
     },
     "execution_count": 33,
     "metadata": {},
     "output_type": "execute_result"
    }
   ],
   "source": [
    "d['age']"
   ]
  },
  {
   "cell_type": "code",
   "execution_count": 34,
   "id": "4d649c4a-46a4-48a3-b91b-9ee53dd90ddb",
   "metadata": {},
   "outputs": [
    {
     "data": {
      "text/plain": [
       "2"
      ]
     },
     "execution_count": 34,
     "metadata": {},
     "output_type": "execute_result"
    }
   ],
   "source": [
    "len(d)"
   ]
  },
  {
   "cell_type": "markdown",
   "id": "d12c6db8-d143-446c-a5f2-06dddd8d49d6",
   "metadata": {},
   "source": [
    "### SET"
   ]
  },
  {
   "cell_type": "code",
   "execution_count": 35,
   "id": "3e67de7a-9c46-4981-a91e-3eaacd1b8b6b",
   "metadata": {},
   "outputs": [
    {
     "data": {
      "text/plain": [
       "{1, 2, 3}"
      ]
     },
     "execution_count": 35,
     "metadata": {},
     "output_type": "execute_result"
    }
   ],
   "source": [
    "{1,2,3,1,1,3}"
   ]
  },
  {
   "cell_type": "markdown",
   "id": "9f75eca3-11f3-4902-a8bf-40d4f0c6466b",
   "metadata": {},
   "source": [
    "### EXTRA FUNCTIONS"
   ]
  },
  {
   "cell_type": "code",
   "execution_count": 36,
   "id": "cc342f4a-ca7e-4a2c-8120-529f089ad28d",
   "metadata": {},
   "outputs": [],
   "source": [
    "def times2(var):\n",
    "    return var*2"
   ]
  },
  {
   "cell_type": "code",
   "execution_count": 38,
   "id": "2c63aa33-8e3c-48eb-81f3-6f212b50d1dc",
   "metadata": {},
   "outputs": [
    {
     "data": {
      "text/plain": [
       "6"
      ]
     },
     "execution_count": 38,
     "metadata": {},
     "output_type": "execute_result"
    }
   ],
   "source": [
    "times2(3)"
   ]
  },
  {
   "cell_type": "code",
   "execution_count": 42,
   "id": "0c1e3a86-8342-47e4-94b9-83c777b374ab",
   "metadata": {},
   "outputs": [],
   "source": [
    "times2=lambda var,x:var*x"
   ]
  },
  {
   "cell_type": "code",
   "execution_count": 43,
   "id": "b7064a95-0b2f-46fa-bb51-c4a75e5b7afb",
   "metadata": {},
   "outputs": [
    {
     "name": "stdout",
     "output_type": "stream",
     "text": [
      "12\n"
     ]
    }
   ],
   "source": [
    "print(times2(3,4))"
   ]
  },
  {
   "cell_type": "code",
   "execution_count": 45,
   "id": "c109968b-394e-4b1c-a1de-d4750de0aa04",
   "metadata": {},
   "outputs": [],
   "source": [
    "n=[1,2,3]"
   ]
  },
  {
   "cell_type": "code",
   "execution_count": 46,
   "id": "79f52df4-3641-4884-89ea-d7f1b057b8bd",
   "metadata": {},
   "outputs": [
    {
     "name": "stdout",
     "output_type": "stream",
     "text": [
      "[1, 4, 9]\n"
     ]
    }
   ],
   "source": [
    "out=[]\n",
    "for i in n:\n",
    "    out.append(i**2)\n",
    "print(out)"
   ]
  },
  {
   "cell_type": "code",
   "execution_count": 51,
   "id": "2e61c4af-a212-4187-8553-688805c7c4f1",
   "metadata": {},
   "outputs": [],
   "source": [
    "x=[item**2 for item in n]"
   ]
  },
  {
   "cell_type": "code",
   "execution_count": 52,
   "id": "aa51f479-e56a-41a8-bf91-dc6804cbe28f",
   "metadata": {},
   "outputs": [
    {
     "data": {
      "text/plain": [
       "[1, 4, 9]"
      ]
     },
     "execution_count": 52,
     "metadata": {},
     "output_type": "execute_result"
    }
   ],
   "source": [
    "x"
   ]
  },
  {
   "cell_type": "code",
   "execution_count": 55,
   "id": "2c011e2b-4160-4e0a-aff9-fd2c7725eabd",
   "metadata": {},
   "outputs": [
    {
     "data": {
      "text/plain": [
       "33"
      ]
     },
     "execution_count": 55,
     "metadata": {},
     "output_type": "execute_result"
    }
   ],
   "source": [
    "l=100//3\n",
    "l"
   ]
  },
  {
   "cell_type": "code",
   "execution_count": 56,
   "id": "d659518b-05b5-45b3-bb75-6aaef2a581f9",
   "metadata": {},
   "outputs": [
    {
     "name": "stdout",
     "output_type": "stream",
     "text": [
      "My name is Leya and age is 20\n"
     ]
    }
   ],
   "source": [
    "print(\"My name is {0} and age is {1}\".format('Leya',20)) "
   ]
  },
  {
   "cell_type": "code",
   "execution_count": 58,
   "id": "6e42d8b4-6863-4b19-b69b-b6e8b8eb5fc2",
   "metadata": {},
   "outputs": [
    {
     "name": "stdout",
     "output_type": "stream",
     "text": [
      "My name is 20 and age is Leya\n"
     ]
    }
   ],
   "source": [
    "print(\"My name is {1} and age is {0}\".format('Leya',20)) "
   ]
  },
  {
   "cell_type": "code",
   "execution_count": 59,
   "id": "7cad142b-bf71-4918-9f46-03e6deadd7c2",
   "metadata": {},
   "outputs": [
    {
     "name": "stdout",
     "output_type": "stream",
     "text": [
      "My name is Leya and age is 20\n"
     ]
    }
   ],
   "source": [
    "print(\"My name is {} and age is {}\".format('Leya',20)) "
   ]
  },
  {
   "cell_type": "code",
   "execution_count": 60,
   "id": "87a9b1ac-8cb1-4170-b8af-1672caf83e7c",
   "metadata": {},
   "outputs": [],
   "source": [
    "num=12\n",
    "nm='kokop'"
   ]
  },
  {
   "cell_type": "code",
   "execution_count": 61,
   "id": "6e14c949-f277-48c9-b5dd-f940f13e9485",
   "metadata": {},
   "outputs": [
    {
     "name": "stdout",
     "output_type": "stream",
     "text": [
      "My name is kokop and age is 12\n"
     ]
    }
   ],
   "source": [
    "print(\"My name is {t} and age is {o}\".format(o=num,t=nm)) "
   ]
  },
  {
   "cell_type": "code",
   "execution_count": null,
   "id": "72bf10e5-147b-4c98-ae6b-e3cd94d5e715",
   "metadata": {},
   "outputs": [],
   "source": []
  }
 ],
 "metadata": {
  "kernelspec": {
   "display_name": "Python 3 (Intel® oneAPI 2023.2)",
   "language": "python",
   "name": "c009-intel_distribution_of_python_3_oneapi-beta05-python"
  },
  "language_info": {
   "codemirror_mode": {
    "name": "ipython",
    "version": 3
   },
   "file_extension": ".py",
   "mimetype": "text/x-python",
   "name": "python",
   "nbconvert_exporter": "python",
   "pygments_lexer": "ipython3",
   "version": "3.9.16"
  }
 },
 "nbformat": 4,
 "nbformat_minor": 5
}
